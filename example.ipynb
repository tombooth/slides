{
 "cells": [
  {
   "cell_type": "code",
   "execution_count": null,
   "metadata": {},
   "outputs": [],
   "source": [
    "%load_ext autoreload\n",
    "%autoreload 2\n",
    "\n",
    "import pandas as pd\n",
    "import slides, slides.auth, slides.io"
   ]
  },
  {
   "cell_type": "code",
   "execution_count": null,
   "metadata": {},
   "outputs": [],
   "source": [
    "df = pd.DataFrame({'length': [1.5, 0.5, 1.2, 0.9, 3],\n",
    "                  'width': [0.7, 0.2, 0.15, 0.2, 1.1]},\n",
    "                  index=['pig', 'rabbit', 'duck', 'chicken', 'horse'])\n",
    "plot = df.plot(title=\"DataFrame Plot\")\n",
    "plot"
   ]
  },
  {
   "cell_type": "code",
   "execution_count": null,
   "metadata": {},
   "outputs": [],
   "source": [
    "creds = slides.auth.from_secret(\"resource name\")\n",
    "\n",
    "presso = slides.open(\n",
    "    \"presentation url\",\n",
    "    credentials=creds,\n",
    ")\n",
    "\n",
    "presso.batch(\n",
    "\n",
    "    presso.slide(\n",
    "        flex_direction=\"column\",\n",
    "        padding=\"10pt 5pt 10pt 5pt\",\n",
    "    )(\n",
    "        slides.text_box(\n",
    "            height=\"50pt\",\n",
    "            margin=\"5pt 5pt 5pt 0pt\",\n",
    "            content_alignment=\"middle\",\n",
    "        )(\n",
    "            slides.insert_text(\"Awesome slide with a chart on it\")\n",
    "        ),\n",
    "        slides.box(\n",
    "            flex_grow=1,\n",
    "            flex_direction=\"row\",\n",
    "            gap=\"5pt\",\n",
    "            padding=\"5pt\",\n",
    "        )(\n",
    "            slides.text_box(\n",
    "                flex_grow=1,\n",
    "                content_alignment=\"middle\",\n",
    "            )(\n",
    "                slides.insert_text(\"I'm on the left\"),\n",
    "            ),\n",
    "            slides.image(\n",
    "                slides.io.signed_url_for(plot, bucket=\"slides-thingy\", credentials=creds),\n",
    "                flex_grow=1,\n",
    "            ),\n",
    "        )\n",
    "    )\n",
    "\n",
    ")\n"
   ]
  }
 ],
 "metadata": {
  "kernelspec": {
   "display_name": ".venv",
   "language": "python",
   "name": "python3"
  },
  "language_info": {
   "codemirror_mode": {
    "name": "ipython",
    "version": 3
   },
   "file_extension": ".py",
   "mimetype": "text/x-python",
   "name": "python",
   "nbconvert_exporter": "python",
   "pygments_lexer": "ipython3",
   "version": "3.13.2"
  }
 },
 "nbformat": 4,
 "nbformat_minor": 2
}
